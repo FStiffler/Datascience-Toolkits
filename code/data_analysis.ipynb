{
 "cells": [
  {
   "cell_type": "markdown",
   "id": "a7d1aea8",
   "metadata": {},
   "source": [
    "# Task 4\n",
    "\n",
    "\n",
    "## Analysis of data\n",
    "\n",
    "\n",
    "In this notebook, we are going to analyse the data from the mnist dataset. We will also train a model, make predictions and visualize the predictions after the fact. \n",
    "\n",
    "\n",
    "### Importing packages and modules"
   ]
  },
  {
   "cell_type": "code",
   "execution_count": null,
   "id": "04d3f4ad",
   "metadata": {},
   "outputs": [],
   "source": [
    "import "
   ]
  },
  {
   "cell_type": "code",
   "execution_count": null,
   "id": "be51295e",
   "metadata": {},
   "outputs": [],
   "source": []
  }
 ],
 "metadata": {
  "kernelspec": {
   "display_name": "Python 3 (ipykernel)",
   "language": "python",
   "name": "python3"
  },
  "language_info": {
   "codemirror_mode": {
    "name": "ipython",
    "version": 3
   },
   "file_extension": ".py",
   "mimetype": "text/x-python",
   "name": "python",
   "nbconvert_exporter": "python",
   "pygments_lexer": "ipython3",
   "version": "3.8.10"
  }
 },
 "nbformat": 4,
 "nbformat_minor": 5
}
