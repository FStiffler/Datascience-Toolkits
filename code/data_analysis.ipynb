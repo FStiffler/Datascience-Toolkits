{
 "cells": [
  {
   "cell_type": "markdown",
   "id": "a7d1aea8",
   "metadata": {},
   "source": [
    "# Task 4\n",
    "\n",
    "\n",
    "## Analysis of data\n",
    "\n",
    "\n",
    "In this notebook, we are going to analyse the data from the mnist dataset. We will also train a model, make predictions and visualize the predictions after the fact.\n",
    "\n",
    "\n",
    "### Importing packages and modules"
   ]
  },
  {
   "cell_type": "code",
   "execution_count": 1,
   "id": "04d3f4ad",
   "metadata": {},
   "outputs": [
    {
     "name": "stderr",
     "output_type": "stream",
     "text": [
      "2021-12-02 14:02:32.800189: W tensorflow/stream_executor/platform/default/dso_loader.cc:64] Could not load dynamic library 'libcudart.so.11.0'; dlerror: libcudart.so.11.0: cannot open shared object file: No such file or directory\n",
      "2021-12-02 14:02:32.800240: I tensorflow/stream_executor/cuda/cudart_stub.cc:29] Ignore above cudart dlerror if you do not have a GPU set up on your machine.\n"
     ]
    }
   ],
   "source": [
    "from data_load import load_data\n",
    "from matplotlib import pyplot as plt\n",
    "import numpy as np\n",
    "from data_prepare import prepare_data\n",
    "from tensorflow import keras\n",
    "from tensorflow.keras import layers\n",
    "import random\n",
    "from sklearn.metrics import confusion_matrix, ConfusionMatrixDisplay"
   ]
  },
  {
   "cell_type": "markdown",
   "id": "26b55760",
   "metadata": {},
   "source": [
    "### Load data"
   ]
  },
  {
   "cell_type": "code",
   "execution_count": 2,
   "id": "be51295e",
   "metadata": {},
   "outputs": [],
   "source": [
    "x_train, y_train, x_test, y_test = load_data()"
   ]
  },
  {
   "cell_type": "markdown",
   "id": "0ccb30e7",
   "metadata": {},
   "source": [
    "The data is split into a training and test set. Both sets contain the actual pictures (x) and the according labels (y). "
   ]
  },
  {
   "cell_type": "markdown",
   "id": "7848d4df",
   "metadata": {},
   "source": [
    "### Analyse data"
   ]
  },
  {
   "cell_type": "code",
   "execution_count": 3,
   "id": "e199d1af",
   "metadata": {},
   "outputs": [
    {
     "name": "stdout",
     "output_type": "stream",
     "text": [
      "Datatype = <class 'numpy.dtype'>\n",
      "shape of x_train = (60000, 28, 28)\n",
      "shape of y_train = (60000,)\n",
      "shape of x_test = (10000, 28, 28)\n",
      "shape of y_test = (10000,)\n"
     ]
    }
   ],
   "source": [
    "# General information\n",
    "print('Datatype =',type(x_train.dtype))\n",
    "print('shape of x_train =',x_train.shape)\n",
    "print('shape of y_train =',y_train.shape)\n",
    "print('shape of x_test =',x_test.shape)\n",
    "print('shape of y_test =',y_test.shape)"
   ]
  },
  {
   "cell_type": "markdown",
   "id": "a5e6d10d",
   "metadata": {},
   "source": [
    "The pictures are loaded as numpy arrays. The training set consists of 60000 pictures each of size 28x28 pixels. Each picture has a corresponding label with the true value. The test set contains 10000 pictures with same size and belonging labels. The shape already indicates that we do not have any color channels but only one value for the grey scale."
   ]
  },
  {
   "cell_type": "code",
   "execution_count": 4,
   "id": "4e0d14e1",
   "metadata": {},
   "outputs": [
    {
     "name": "stdout",
     "output_type": "stream",
     "text": [
      "Type of pixel values = uint8\n",
      "Structure of picture expressed as array:\n",
      "[[  0   0   0   0   0   0   0   0   0   0   0   0   0   0   0   0   0   0\n",
      "    0   0   0   0   0   0   0   0   0   0]\n",
      " [  0   0   0   0   0   0   0   0   0   0   0   0   0   0   0   0   0   0\n",
      "    0   0   0   0   0   0   0   0   0   0]\n",
      " [  0   0   0   0   0   0   0   0   0   0   0   0   0   0   0   0   0   0\n",
      "    0   0   0   0   0   0   0   0   0   0]\n",
      " [  0   0   0   0   0   0   0   0   0   0   0   0   0   0   0   0   0   0\n",
      "    0   0   0   0   0   0   0   0   0   0]\n",
      " [  0   0   0   0   0   0   0   0   0   0   0   0   0   0   0   0   0   0\n",
      "    0   0   0   0   0   0   0   0   0   0]\n",
      " [  0   0   0   0   0   0   0   0   0   0   0   0   3  18  18  18 126 136\n",
      "  175  26 166 255 247 127   0   0   0   0]\n",
      " [  0   0   0   0   0   0   0   0  30  36  94 154 170 253 253 253 253 253\n",
      "  225 172 253 242 195  64   0   0   0   0]\n",
      " [  0   0   0   0   0   0   0  49 238 253 253 253 253 253 253 253 253 251\n",
      "   93  82  82  56  39   0   0   0   0   0]\n",
      " [  0   0   0   0   0   0   0  18 219 253 253 253 253 253 198 182 247 241\n",
      "    0   0   0   0   0   0   0   0   0   0]\n",
      " [  0   0   0   0   0   0   0   0  80 156 107 253 253 205  11   0  43 154\n",
      "    0   0   0   0   0   0   0   0   0   0]\n",
      " [  0   0   0   0   0   0   0   0   0  14   1 154 253  90   0   0   0   0\n",
      "    0   0   0   0   0   0   0   0   0   0]\n",
      " [  0   0   0   0   0   0   0   0   0   0   0 139 253 190   2   0   0   0\n",
      "    0   0   0   0   0   0   0   0   0   0]\n",
      " [  0   0   0   0   0   0   0   0   0   0   0  11 190 253  70   0   0   0\n",
      "    0   0   0   0   0   0   0   0   0   0]\n",
      " [  0   0   0   0   0   0   0   0   0   0   0   0  35 241 225 160 108   1\n",
      "    0   0   0   0   0   0   0   0   0   0]\n",
      " [  0   0   0   0   0   0   0   0   0   0   0   0   0  81 240 253 253 119\n",
      "   25   0   0   0   0   0   0   0   0   0]\n",
      " [  0   0   0   0   0   0   0   0   0   0   0   0   0   0  45 186 253 253\n",
      "  150  27   0   0   0   0   0   0   0   0]\n",
      " [  0   0   0   0   0   0   0   0   0   0   0   0   0   0   0  16  93 252\n",
      "  253 187   0   0   0   0   0   0   0   0]\n",
      " [  0   0   0   0   0   0   0   0   0   0   0   0   0   0   0   0   0 249\n",
      "  253 249  64   0   0   0   0   0   0   0]\n",
      " [  0   0   0   0   0   0   0   0   0   0   0   0   0   0  46 130 183 253\n",
      "  253 207   2   0   0   0   0   0   0   0]\n",
      " [  0   0   0   0   0   0   0   0   0   0   0   0  39 148 229 253 253 253\n",
      "  250 182   0   0   0   0   0   0   0   0]\n",
      " [  0   0   0   0   0   0   0   0   0   0  24 114 221 253 253 253 253 201\n",
      "   78   0   0   0   0   0   0   0   0   0]\n",
      " [  0   0   0   0   0   0   0   0  23  66 213 253 253 253 253 198  81   2\n",
      "    0   0   0   0   0   0   0   0   0   0]\n",
      " [  0   0   0   0   0   0  18 171 219 253 253 253 253 195  80   9   0   0\n",
      "    0   0   0   0   0   0   0   0   0   0]\n",
      " [  0   0   0   0  55 172 226 253 253 253 253 244 133  11   0   0   0   0\n",
      "    0   0   0   0   0   0   0   0   0   0]\n",
      " [  0   0   0   0 136 253 253 253 212 135 132  16   0   0   0   0   0   0\n",
      "    0   0   0   0   0   0   0   0   0   0]\n",
      " [  0   0   0   0   0   0   0   0   0   0   0   0   0   0   0   0   0   0\n",
      "    0   0   0   0   0   0   0   0   0   0]\n",
      " [  0   0   0   0   0   0   0   0   0   0   0   0   0   0   0   0   0   0\n",
      "    0   0   0   0   0   0   0   0   0   0]\n",
      " [  0   0   0   0   0   0   0   0   0   0   0   0   0   0   0   0   0   0\n",
      "    0   0   0   0   0   0   0   0   0   0]]\n"
     ]
    }
   ],
   "source": [
    "# Print array of first picture in training data\n",
    "print('Type of pixel values =', x_train.dtype)\n",
    "print('Structure of picture expressed as array:')\n",
    "print(x_train[0])"
   ]
  },
  {
   "cell_type": "markdown",
   "id": "823ec63f",
   "metadata": {},
   "source": [
    "When we look at the array of the first picture in the training set we see that the array consists of 28 rows with 28 values. This is just the representation of the 28x28 pixels in the picture. It can also be seen that each pixel has only one value ranging from 0 to 255. It basically describes the brightness of the pixel where 0 represents a black pixel and 255 a white pixel. Each pixel value is stored as an 8-bit integer which explains why the values only take values between 0 (in binary system: 00000000) and 255 (in binary system: 11111111). A more detailed explanation can be found [here](https://homepages.inf.ed.ac.uk/rbf/HIPR2/value.htm)."
   ]
  },
  {
   "cell_type": "code",
   "execution_count": 5,
   "id": "f6da0a6f",
   "metadata": {},
   "outputs": [
    {
     "data": {
      "image/png": "[encoded data removed]",
      "text/plain": [
       "<Figure size 540x288 with 10 Axes>"
      ]
     },
     "metadata": {
      "needs_background": "light"
     },
     "output_type": "display_data"
    }
   ],
   "source": [
    "# Choose a sample\n",
    "num = 10\n",
    "images = x_train[:num]\n",
    "labels = y_train[:num]\n",
    "\n",
    "# Show pictures \n",
    "num_row = 2\n",
    "num_col = 5# plot images\n",
    "fig, axes = plt.subplots(num_row, num_col, figsize=(1.5*num_col,2*num_row))\n",
    "for i in range(num):\n",
    "    ax = axes[i//num_col, i%num_col]\n",
    "    ax.imshow(images[i], cmap='gray')\n",
    "    ax.set_title('Label: {}'.format(labels[i]))\n",
    "plt.tight_layout()\n",
    "plt.show()\n"
   ]
  },
  {
   "cell_type": "markdown",
   "id": "fa6d20cc",
   "metadata": {},
   "source": [
    "The pixel brigthness allows us to plot the pictures using the 'gray' colormap from pyplot. Each picture contains a handwritten number. The according labels are appended. While some of the digits are easily recognizable, others are less obvious. "
   ]
  },
  {
   "cell_type": "code",
   "execution_count": 6,
   "id": "c7700a83",
   "metadata": {},
   "outputs": [
    {
     "data": {
      "image/png": "[encoded data removed]",
      "text/plain": [
       "<Figure size 432x288 with 1 Axes>"
      ]
     },
     "metadata": {
      "needs_background": "light"
     },
     "output_type": "display_data"
    },
    {
     "data": {
      "image/png": "[encoded data removed]",
      "text/plain": [
       "<Figure size 432x288 with 1 Axes>"
      ]
     },
     "metadata": {
      "needs_background": "light"
     },
     "output_type": "display_data"
    }
   ],
   "source": [
    "# Distribution of labels\n",
    "bins = np.arange(11) - 0.5\n",
    "\n",
    "# training\n",
    "plt.hist(y_train, bins, edgecolor='black')\n",
    "plt.xticks(range(10))\n",
    "plt.title(\"Label distribution of training set\")\n",
    "plt.xlabel(\"Label\")\n",
    "plt.ylabel(\"Frequency\")\n",
    "plt.show()\n",
    "\n",
    "# test\n",
    "plt.hist(y_test, bins, edgecolor='black')\n",
    "plt.xticks(range(10))\n",
    "plt.title(\"Label distribution of test set\")\n",
    "plt.xlabel(\"Label\")\n",
    "plt.ylabel(\"Frequency\")\n",
    "plt.show()"
   ]
  },
  {
   "cell_type": "markdown",
   "id": "d524fb9f",
   "metadata": {},
   "source": [
    "The plots indicate an approximately equal distribution of labels. In Task 2 we decided to go with accuracy as our evaluation metric for the model assuming that the labels are uniformely distributed. These plots confirm our choice. In the following steps we are now going to train our model with the same configurations which proved to be very successfull in Task 2. \n",
    "\n",
    "### Prepare data for model analysis"
   ]
  },
  {
   "cell_type": "code",
   "execution_count": 7,
   "id": "3c071b58",
   "metadata": {},
   "outputs": [
    {
     "name": "stdout",
     "output_type": "stream",
     "text": [
      "x_train shape: (60000, 28, 28, 1)\n",
      "60000 train samples\n",
      "10000 test samples\n",
      "Data prepared\n"
     ]
    }
   ],
   "source": [
    "# prepare data \n",
    "num_classes = 10  \n",
    "x_train, y_train, x_test, y_test = prepare_data(x_train, y_train, x_test, y_test, num_classes)"
   ]
  },
  {
   "cell_type": "markdown",
   "id": "b6343956",
   "metadata": {},
   "source": [
    "### Train Model\n",
    "\n",
    "We train the model on the training data and with the exact same parameters used for the final run on [W&B](https://wandb.ai/fstiffler/dbs/runs/u14u7yr4?workspace=user-fstiffler) in Task 2. "
   ]
  },
  {
   "cell_type": "code",
   "execution_count": 8,
   "id": "3d9e4d5f",
   "metadata": {},
   "outputs": [
    {
     "name": "stderr",
     "output_type": "stream",
     "text": [
      "2021-12-02 14:02:40.507470: W tensorflow/stream_executor/platform/default/dso_loader.cc:64] Could not load dynamic library 'libcuda.so.1'; dlerror: libcuda.so.1: cannot open shared object file: No such file or directory\n",
      "2021-12-02 14:02:40.507534: W tensorflow/stream_executor/cuda/cuda_driver.cc:269] failed call to cuInit: UNKNOWN ERROR (303)\n",
      "2021-12-02 14:02:40.507576: I tensorflow/stream_executor/cuda/cuda_diagnostics.cc:156] kernel driver does not appear to be running on this host (flurin-VirtualBox): /proc/driver/nvidia/version does not exist\n",
      "2021-12-02 14:02:40.508007: I tensorflow/core/platform/cpu_feature_guard.cc:142] This TensorFlow binary is optimized with oneAPI Deep Neural Network Library (oneDNN) to use the following CPU instructions in performance-critical operations:  AVX2\n",
      "To enable them in other operations, rebuild TensorFlow with the appropriate compiler flags.\n",
      "2021-12-02 14:02:40.659938: W tensorflow/core/framework/cpu_allocator_impl.cc:80] Allocation of 169344000 exceeds 10% of free system memory.\n",
      "2021-12-02 14:02:40.909724: I tensorflow/compiler/mlir/mlir_graph_optimization_pass.cc:185] None of the MLIR Optimization Passes are enabled (registered 2)\n"
     ]
    },
    {
     "name": "stdout",
     "output_type": "stream",
     "text": [
      "Epoch 1/5\n",
      "422/422 [==============================] - 38s 88ms/step - loss: 0.3777 - accuracy: 0.8848 - val_loss: 0.0866 - val_accuracy: 0.9770\n",
      "Epoch 2/5\n",
      "422/422 [==============================] - 34s 80ms/step - loss: 0.1159 - accuracy: 0.9650 - val_loss: 0.0601 - val_accuracy: 0.9842\n",
      "Epoch 3/5\n",
      "422/422 [==============================] - 36s 86ms/step - loss: 0.0862 - accuracy: 0.9741 - val_loss: 0.0489 - val_accuracy: 0.9860\n",
      "Epoch 4/5\n",
      "422/422 [==============================] - 35s 83ms/step - loss: 0.0726 - accuracy: 0.9786 - val_loss: 0.0435 - val_accuracy: 0.9883\n",
      "Epoch 5/5\n",
      "422/422 [==============================] - 37s 87ms/step - loss: 0.0653 - accuracy: 0.9800 - val_loss: 0.0406 - val_accuracy: 0.9895\n"
     ]
    },
    {
     "data": {
      "text/plain": [
       "<keras.callbacks.History at 0x7f89b108b670>"
      ]
     },
     "execution_count": 8,
     "metadata": {},
     "output_type": "execute_result"
    }
   ],
   "source": [
    "# set configurations\n",
    "config = {\n",
    "  \"epochs\": 5,\n",
    "  \"batch_size\": 128,\n",
    "  \"validation_split\": 0.1,\n",
    "  \"loss\": \"categorical_crossentropy\",\n",
    "  \"optimizer\": \"adam\",\n",
    "  \"metric\": \"accuracy\"\n",
    "}\n",
    "\n",
    "# define input shape\n",
    "input_shape = (28, 28, 1)\n",
    "\n",
    "# define model\n",
    "model = keras.Sequential(\n",
    "    [\n",
    "        keras.Input(shape=input_shape),\n",
    "        layers.Conv2D(32, kernel_size=(3, 3), activation=\"relu\"),\n",
    "        layers.MaxPooling2D(pool_size=(2, 2)),\n",
    "        layers.Conv2D(64, kernel_size=(3, 3), activation=\"relu\"),\n",
    "        layers.MaxPooling2D(pool_size=(2, 2)),\n",
    "        layers.Flatten(),\n",
    "        layers.Dropout(0.5),\n",
    "        layers.Dense(num_classes, activation=\"softmax\"),\n",
    "    ]\n",
    ")\n",
    "\n",
    "# compile and train model\n",
    "model.compile(loss = config['loss'],\n",
    "              optimizer = config['optimizer'],\n",
    "              metrics = [config['metric']])\n",
    "\n",
    "model.fit(x_train, y_train,\n",
    "          validation_data = (x_test, y_test),\n",
    "          batch_size = config['batch_size'],\n",
    "          epochs = config['epochs'],\n",
    "          validation_split = config['validation_split'])\n"
   ]
  },
  {
   "cell_type": "markdown",
   "id": "993ac3b7",
   "metadata": {},
   "source": [
    "### Make predictions for test set \n",
    "\n",
    "The model is applied to the test set in order to evaluate the performance of the model. "
   ]
  },
  {
   "cell_type": "code",
   "execution_count": 9,
   "id": "88151a71",
   "metadata": {},
   "outputs": [],
   "source": [
    "# Create predictions\n",
    "predictions = model.predict(x_test)"
   ]
  },
  {
   "cell_type": "markdown",
   "id": "1d9c8b90",
   "metadata": {},
   "source": [
    "### Analyse predictions\n",
    "\n",
    "Now we are going to analyse the performance of the model on the test set. "
   ]
  },
  {
   "cell_type": "code",
   "execution_count": 10,
   "id": "2679c0a3",
   "metadata": {},
   "outputs": [
    {
     "data": {
      "image/png": "[encoded data removed]",
      "text/plain": [
       "<Figure size 432x288 with 1 Axes>"
      ]
     },
     "metadata": {
      "needs_background": "light"
     },
     "output_type": "display_data"
    },
    {
     "name": "stdout",
     "output_type": "stream",
     "text": [
      "Model prediction softmax: [0. 0. 0. 0. 0. 0. 0. 1. 0. 0.]\n",
      "Final prediction (label with maximal probability): 7\n"
     ]
    }
   ],
   "source": [
    "# Print prediction and actual output for first test set picture \n",
    "\n",
    "plt.imshow(x_test[0], cmap='gray')\n",
    "plt.title('True Label: {}'.format(np.argmax(y_test[0])))\n",
    "plt.tight_layout()\n",
    "plt.show()\n",
    "\n",
    "print(\"Model prediction softmax:\", np.round(predictions[0], 2))\n",
    "print(\"Final prediction (label with maximal probability):\", np.argmax(predictions[0]))"
   ]
  },
  {
   "cell_type": "code",
   "execution_count": 11,
   "id": "37f8e7de",
   "metadata": {},
   "outputs": [
    {
     "data": {
      "image/png": "[encoded data removed]",
      "text/plain": [
       "<Figure size 432x288 with 1 Axes>"
      ]
     },
     "metadata": {
      "needs_background": "light"
     },
     "output_type": "display_data"
    },
    {
     "name": "stdout",
     "output_type": "stream",
     "text": [
      "Model prediction softmax: [0. 0. 1. 0. 0. 0. 0. 0. 0. 0.]\n",
      "Final prediction (label with maximal probability): 2\n"
     ]
    }
   ],
   "source": [
    "# Print prediction and actual output for second test set picture \n",
    "\n",
    "plt.imshow(x_test[1], cmap='gray')\n",
    "plt.title('True Label: {}'.format(np.argmax(y_test[1])))\n",
    "plt.tight_layout()\n",
    "plt.show()\n",
    "\n",
    "print(\"Model prediction softmax:\", np.round(predictions[1], 2))\n",
    "print(\"Final prediction (label with maximal probability):\", np.argmax(predictions[1]))"
   ]
  },
  {
   "cell_type": "code",
   "execution_count": 12,
   "id": "240ec77d",
   "metadata": {},
   "outputs": [
    {
     "data": {
      "image/png": "[encoded data removed]",
      "text/plain": [
       "<Figure size 432x288 with 1 Axes>"
      ]
     },
     "metadata": {
      "needs_background": "light"
     },
     "output_type": "display_data"
    },
    {
     "name": "stdout",
     "output_type": "stream",
     "text": [
      "Model prediction softmax: [0.   0.   0.   0.   0.   0.01 0.99 0.   0.   0.  ]\n",
      "Final prediction (label with maximal probability): 6\n"
     ]
    }
   ],
   "source": [
    "# Print prediction and actual output for random test set picture \n",
    "n = random.randint(0,10000)\n",
    "\n",
    "plt.imshow(x_test[n], cmap='gray')\n",
    "plt.title('True Label: {}'.format(np.argmax(y_test[n])))\n",
    "plt.tight_layout()\n",
    "plt.show()\n",
    "\n",
    "print(\"Model prediction softmax:\", np.round(predictions[n], 2))\n",
    "print(\"Final prediction (label with maximal probability):\", np.argmax(predictions[n]))"
   ]
  },
  {
   "cell_type": "markdown",
   "id": "6cf9b5ad",
   "metadata": {},
   "source": [
    "From the example cases above it is visible that the model assigns each picture a softmax list. Each element in the list represents the probability that a certain digit is actually present on the picture. The first element expresses the probability that a 0 is present, the second element is the probability that 1 is present and so forth. The digit which is assigned the highest probability is our final prediction. "
   ]
  },
  {
   "cell_type": "code",
   "execution_count": 13,
   "id": "a4bb4f4b",
   "metadata": {},
   "outputs": [
    {
     "name": "stdout",
     "output_type": "stream",
     "text": [
      "Test loss: 0.036290060728788376\n",
      "Test accuracy: 0.9876999855041504\n"
     ]
    }
   ],
   "source": [
    "# Model accuracy \n",
    "loss, acc = model.evaluate(x_test, y_test, verbose=0)\n",
    "print('Test loss:', loss)\n",
    "print('Test accuracy:', acc)"
   ]
  },
  {
   "cell_type": "markdown",
   "id": "4946cba1",
   "metadata": {},
   "source": [
    "The categorical crossentropy loss is minimized to 0.04 on our test data. The accuracy is almost 99%. This means our model predicts 99 out of 100 pictures correctly. In the next step we want to create a confusion matrix. For this purpose we have to create a list with actual and predicted values for each picture in the test set."
   ]
  },
  {
   "cell_type": "code",
   "execution_count": 14,
   "id": "a839dd0a",
   "metadata": {},
   "outputs": [
    {
     "name": "stdout",
     "output_type": "stream",
     "text": [
      "20 first, actual values:    [7 2 1 0 4 1 4 9 5 9 0 6 9 0 1 5 9 7 3 4]\n",
      "20 first, predicted values: [7 2 1 0 4 1 4 9 5 9 0 6 9 0 1 5 9 7 5 4]\n"
     ]
    }
   ],
   "source": [
    "# Create list of actual and predicted outputs\n",
    "actual = np.argmax(y_test, axis=1)\n",
    "print(\"20 first, actual values:   \", actual[0:20])\n",
    "preds = np.argmax(predictions, axis=1)\n",
    "print(\"20 first, predicted values:\", preds[0:20])"
   ]
  },
  {
   "cell_type": "markdown",
   "id": "24476e86",
   "metadata": {},
   "source": [
    "Now that we have the list we can create the confusion matrix. "
   ]
  },
  {
   "cell_type": "code",
   "execution_count": 15,
   "id": "d32d2f0d",
   "metadata": {},
   "outputs": [
    {
     "data": {
      "image/png": "[encoded data removed]",
      "text/plain": [
       "<Figure size 432x288 with 2 Axes>"
      ]
     },
     "metadata": {
      "needs_background": "light"
     },
     "output_type": "display_data"
    }
   ],
   "source": [
    "# Create confusion matrix\n",
    "cm = confusion_matrix(actual, preds, labels=[0,1,2,3,4,5,6,7,8,9])\n",
    "disp = ConfusionMatrixDisplay(confusion_matrix=cm)\n",
    "disp.plot()\n",
    "plt.show()"
   ]
  },
  {
   "cell_type": "markdown",
   "id": "c5ae06de",
   "metadata": {},
   "source": [
    "The confusion matrix shows the predicted values on the x-axis and the actual values on the y-axis. The diagonal line shows how many times a picture with a certain digit on it was correclty labelled and that for each digit individually. All the off-diagonal numbers show how often pictures where incorrectly labelled for each possible combination of digits. For example, we see that ten pictures of digit four were incorrectly labeled with digit nine. We also see that digit three was often mistaken for digit seven by the model. On the other end, a lot of digits where never confused with each other by the model. \n",
    "\n",
    "### Conclusion\n",
    "\n",
    "In this jupyter notebook we showed how our data is structured and what the characteristics of the data is. We also evaluated the performance of our model and tried to visualize that as well. "
   ]
  }
 ],
 "metadata": {
  "kernelspec": {
   "display_name": "Python 3 (ipykernel)",
   "language": "python",
   "name": "python3"
  },
  "language_info": {
   "codemirror_mode": {
    "name": "ipython",
    "version": 3
   },
   "file_extension": ".py",
   "mimetype": "text/x-python",
   "name": "python",
   "nbconvert_exporter": "python",
   "pygments_lexer": "ipython3",
   "version": "3.8.10"
  }
 },
 "nbformat": 4,
 "nbformat_minor": 5
}
